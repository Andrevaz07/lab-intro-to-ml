{
 "cells": [
  {
   "cell_type": "markdown",
   "metadata": {},
   "source": [
    "# Before your start:\n",
    "- Read the README.md file\n",
    "- Comment as much as you can and use the resources in the README.md file\n",
    "- Happy learning!"
   ]
  },
  {
   "cell_type": "code",
   "execution_count": 69,
   "metadata": {},
   "outputs": [],
   "source": [
    "#Import your libraries\n",
    "import pandas as pd "
   ]
  },
  {
   "cell_type": "markdown",
   "metadata": {},
   "source": [
    "\n",
    "# Challenge 1 - Import and Describe the Dataset"
   ]
  },
  {
   "cell_type": "markdown",
   "metadata": {},
   "source": [
    "#### In this challenge we will use the `austin_weather` data. \n",
    "\n",
    "#### First, import it into a data frame called `austin`. "
   ]
  },
  {
   "cell_type": "code",
   "execution_count": 70,
   "metadata": {},
   "outputs": [],
   "source": [
    "# Your code here\n",
    "csv = r\"C:\\Users\\andre\\OneDrive\\Desktop\\IH DATA\\Machine learning\\lab-intro-to-ml\\your-code\\austin_weather.csv\"\n",
    "data = pd.read_csv(csv)\n"
   ]
  },
  {
   "cell_type": "markdown",
   "metadata": {},
   "source": [
    "#### Next, describe the dataset you have loaded: \n",
    "- Look at the variables and their types\n",
    "- Examine the descriptive statistics of the numeric variables \n",
    "- Look at the first five rows of all variables to evaluate the categorical variables as well"
   ]
  },
  {
   "cell_type": "code",
   "execution_count": 71,
   "metadata": {},
   "outputs": [
    {
     "name": "stdout",
     "output_type": "stream",
     "text": [
      "<class 'pandas.core.frame.DataFrame'>\n",
      "RangeIndex: 1319 entries, 0 to 1318\n",
      "Data columns (total 21 columns):\n",
      " #   Column                      Non-Null Count  Dtype \n",
      "---  ------                      --------------  ----- \n",
      " 0   Date                        1319 non-null   object\n",
      " 1   TempHighF                   1319 non-null   int64 \n",
      " 2   TempAvgF                    1319 non-null   int64 \n",
      " 3   TempLowF                    1319 non-null   int64 \n",
      " 4   DewPointHighF               1319 non-null   object\n",
      " 5   DewPointAvgF                1319 non-null   object\n",
      " 6   DewPointLowF                1319 non-null   object\n",
      " 7   HumidityHighPercent         1319 non-null   object\n",
      " 8   HumidityAvgPercent          1319 non-null   object\n",
      " 9   HumidityLowPercent          1319 non-null   object\n",
      " 10  SeaLevelPressureHighInches  1319 non-null   object\n",
      " 11  SeaLevelPressureAvgInches   1319 non-null   object\n",
      " 12  SeaLevelPressureLowInches   1319 non-null   object\n",
      " 13  VisibilityHighMiles         1319 non-null   object\n",
      " 14  VisibilityAvgMiles          1319 non-null   object\n",
      " 15  VisibilityLowMiles          1319 non-null   object\n",
      " 16  WindHighMPH                 1319 non-null   object\n",
      " 17  WindAvgMPH                  1319 non-null   object\n",
      " 18  WindGustMPH                 1319 non-null   object\n",
      " 19  PrecipitationSumInches      1319 non-null   object\n",
      " 20  Events                      1319 non-null   object\n",
      "dtypes: int64(3), object(18)\n",
      "memory usage: 216.5+ KB\n"
     ]
    }
   ],
   "source": [
    "# Your code here\n",
    "data.info()"
   ]
  },
  {
   "cell_type": "code",
   "execution_count": 72,
   "metadata": {},
   "outputs": [],
   "source": [
    "# Your code here\n",
    "data[\"Date\"] = pd.to_datetime(data[\"Date\"])"
   ]
  },
  {
   "cell_type": "code",
   "execution_count": 73,
   "metadata": {},
   "outputs": [],
   "source": [
    "data[\"PrecipitationSumInches\"].value_counts()\n",
    "\n",
    "\"\"\"\n",
    "A \"Trace\" indicates that there was some precipitation observed, but the amount was so small that it is negligible for practical purposes\n",
    "or below the measurable threshold of the instrument used to record the data.So i will assume it as 0.001\n",
    "\"\"\"\n",
    "\n",
    "data[\"PrecipitationSumInches\"] = data[\"PrecipitationSumInches\"].replace({\"T\" : 0.001 })"
   ]
  },
  {
   "cell_type": "code",
   "execution_count": 74,
   "metadata": {},
   "outputs": [],
   "source": [
    "for column in data.columns[4:20]:\n",
    "    data[column] = pd.to_numeric(data[column], errors=\"coerce\")"
   ]
  },
  {
   "cell_type": "code",
   "execution_count": 75,
   "metadata": {},
   "outputs": [
    {
     "data": {
      "text/plain": [
       "Date                           0\n",
       "TempHighF                      0\n",
       "TempAvgF                       0\n",
       "TempLowF                       0\n",
       "DewPointHighF                  7\n",
       "DewPointAvgF                   7\n",
       "DewPointLowF                   7\n",
       "HumidityHighPercent            2\n",
       "HumidityAvgPercent             2\n",
       "HumidityLowPercent             2\n",
       "SeaLevelPressureHighInches     3\n",
       "SeaLevelPressureAvgInches      3\n",
       "SeaLevelPressureLowInches      3\n",
       "VisibilityHighMiles           12\n",
       "VisibilityAvgMiles            12\n",
       "VisibilityLowMiles            12\n",
       "WindHighMPH                    2\n",
       "WindAvgMPH                     2\n",
       "WindGustMPH                    4\n",
       "PrecipitationSumInches         0\n",
       "Events                         0\n",
       "dtype: int64"
      ]
     },
     "execution_count": 75,
     "metadata": {},
     "output_type": "execute_result"
    }
   ],
   "source": [
    "data.isna().sum()"
   ]
  },
  {
   "cell_type": "code",
   "execution_count": 76,
   "metadata": {},
   "outputs": [
    {
     "data": {
      "text/plain": [
       "PrecipitationSumInches\n",
       "0.000    870\n",
       "0.001    124\n",
       "0.010     45\n",
       "0.020     30\n",
       "0.040     10\n",
       "        ... \n",
       "3.840      1\n",
       "0.570      1\n",
       "1.170      1\n",
       "2.170      1\n",
       "1.390      1\n",
       "Name: count, Length: 114, dtype: int64"
      ]
     },
     "execution_count": 76,
     "metadata": {},
     "output_type": "execute_result"
    }
   ],
   "source": [
    "data[\"PrecipitationSumInches\"].value_counts()"
   ]
  },
  {
   "cell_type": "markdown",
   "metadata": {},
   "source": [
    "#### Given the information you have learned from examining the dataset, write down three insights about the data in a markdown cell below"
   ]
  },
  {
   "cell_type": "markdown",
   "metadata": {},
   "source": [
    "#### Your Insights:\n",
    "\n",
    "1. There are 21 variables in the dataset. 3 of them are numeric and the rest contain some text.\n",
    "\n",
    "2. The average temperature in Austin ranged between around 70 degrees F and around 93 degrees F. The highest temperature observed during this period was 107 degrees F and the lowest was 19 degrees F.\n",
    "\n",
    "3. When we look at the head function, we see that a lot of variables contain numeric data even though these columns are of object type. This means we might have to do some data cleansing.\n"
   ]
  },
  {
   "cell_type": "markdown",
   "metadata": {},
   "source": [
    "#### Let's examine the DewPointAvgF variable by using the `unique()` function to list all unique values in this dataframe.\n",
    "\n",
    "Describe what you find in a markdown cell below the code. What did you notice? What do you think made Pandas to treat this column as *object* instead of *int64*? "
   ]
  },
  {
   "cell_type": "code",
   "execution_count": 77,
   "metadata": {},
   "outputs": [],
   "source": [
    "# Your code here\n"
   ]
  },
  {
   "cell_type": "code",
   "execution_count": 78,
   "metadata": {},
   "outputs": [],
   "source": [
    "# Your observation here\n"
   ]
  },
  {
   "cell_type": "markdown",
   "metadata": {},
   "source": [
    "The following is a list of columns misrepresented as `object`. Use this list to convert the columns to numeric using the `pandas.to_numeric` function in the next cell. If you encounter errors in converting strings to numeric values, you need to catch those errors and force the conversion by supplying `errors='coerce'` as an argument for `pandas.to_numeric`. Coercing will replace non-convertable elements with `NaN` which represents an undefined numeric value. This makes it possible for us to conveniently handle missing values in subsequent data processing.\n",
    "\n",
    "*Hint: you may use a loop to change one column at a time but it is more efficient to use `apply`.*"
   ]
  },
  {
   "cell_type": "code",
   "execution_count": 79,
   "metadata": {},
   "outputs": [],
   "source": [
    "wrong_type_columns = ['DewPointHighF', 'DewPointAvgF', 'DewPointLowF', 'HumidityHighPercent', \n",
    "                      'HumidityAvgPercent', 'HumidityLowPercent', 'SeaLevelPressureHighInches', \n",
    "                      'SeaLevelPressureAvgInches' ,'SeaLevelPressureLowInches', 'VisibilityHighMiles',\n",
    "                      'VisibilityAvgMiles', 'VisibilityLowMiles', 'WindHighMPH', 'WindAvgMPH', \n",
    "                      'WindGustMPH', 'PrecipitationSumInches']"
   ]
  },
  {
   "cell_type": "code",
   "execution_count": 80,
   "metadata": {},
   "outputs": [],
   "source": [
    "# Your code here\n"
   ]
  },
  {
   "cell_type": "markdown",
   "metadata": {},
   "source": [
    "#### Check if your code has worked by printing the data types again. You should see only two `object` columns (`Date` and `Events`) now. All other columns should be `int64` or `float64`."
   ]
  },
  {
   "cell_type": "code",
   "execution_count": 81,
   "metadata": {},
   "outputs": [],
   "source": [
    "# Your code here\n"
   ]
  },
  {
   "cell_type": "markdown",
   "metadata": {},
   "source": [
    "# Challenge 2 - Handle the Missing Data"
   ]
  },
  {
   "cell_type": "markdown",
   "metadata": {},
   "source": [
    "#### Now that we have fixed the type mismatch, let's address the missing data.\n",
    "\n",
    "By coercing the columns to numeric, we have created `NaN` for each cell containing characters. We should choose a strategy to address these missing data.\n",
    "\n",
    "The first step is to examine how many rows contain missing data.\n",
    "\n",
    "We check how much missing data we have by applying the `.isnull()` function to our dataset. To find the rows with missing data in any of its cells, we apply `.any(axis=1)` to the function. `austin.isnull().any(axis=1)` will return a column containing true if the row contains at least one missing value and false otherwise. Therefore we must subset our dataframe with this column. This will give us all rows with at least one missing value. \n",
    "\n",
    "#### In the next cell, identify all rows containing at least one missing value. Assign the dataframes with missing values to a variable called `missing_values`."
   ]
  },
  {
   "cell_type": "code",
   "execution_count": 82,
   "metadata": {},
   "outputs": [],
   "source": [
    "# Your code here\n"
   ]
  },
  {
   "cell_type": "markdown",
   "metadata": {},
   "source": [
    "There are multiple strategies to handle missing data. Below lists the most common ones data scientists use:\n",
    "\n",
    "* Removing all rows or all columns containing missing data. This is the simplest strategy. It may work in some cases but not others.\n",
    "\n",
    "* Filling all missing values with a placeholder value. \n",
    "    * For categorical data, `0`, `-1`, and `9999` are some commonly used placeholder values. \n",
    "    * For continuous data, some may opt to fill all missing data with the mean. This strategy is not optimal since it can increase the fit of the model.\n",
    "\n",
    "* Filling the values using some algorithm. \n",
    "\n",
    "#### In our case, we will use a hybrid approach which is to first remove the data that contain most missing values then fill in the rest of the missing values with the *linear interpolation* algorithm."
   ]
  },
  {
   "cell_type": "markdown",
   "metadata": {},
   "source": [
    "#### Next, count the number of rows of `austin` and `missing_values`."
   ]
  },
  {
   "cell_type": "code",
   "execution_count": 83,
   "metadata": {},
   "outputs": [],
   "source": [
    "# Your code here\n"
   ]
  },
  {
   "cell_type": "markdown",
   "metadata": {},
   "source": [
    "#### Calculate the ratio of missing rows to total rows"
   ]
  },
  {
   "cell_type": "code",
   "execution_count": 84,
   "metadata": {},
   "outputs": [],
   "source": [
    "# Your code here\n"
   ]
  },
  {
   "cell_type": "markdown",
   "metadata": {},
   "source": [
    "As you can see, there is a large proportion of missing data (over 10%). Perhaps we should evaluate which columns have the most missing data and remove those columns. For the remaining columns, we will perform a linear approximation of the missing data.\n",
    "\n",
    "We can find the number of missing rows in each column using the `.isna()` function. We then chain the `.sum` function to the `.isna()` function and find the number of missing rows per column"
   ]
  },
  {
   "cell_type": "code",
   "execution_count": 85,
   "metadata": {},
   "outputs": [],
   "source": [
    "# Your code here\n"
   ]
  },
  {
   "cell_type": "markdown",
   "metadata": {},
   "source": [
    "#### As you can see from the output, the majority of missing data is in one column called `PrecipitationSumInches`. What's the number of missing values in this column in ratio to its total number of rows?"
   ]
  },
  {
   "cell_type": "code",
   "execution_count": 86,
   "metadata": {},
   "outputs": [],
   "source": [
    "# Your code here\n"
   ]
  },
  {
   "cell_type": "markdown",
   "metadata": {},
   "source": [
    "Almost 10% data missing! Therefore, we prefer to remove this column instead of filling its missing values. \n",
    "\n",
    "#### Remove this column from `austin` using the `.drop()` function. Use the `inplace=True` argument.\n",
    "\n",
    "*Hints:*\n",
    "\n",
    "* By supplying `inplace=True` to `drop()`, the original dataframe object will be changed in place and the function will return `None`. In contrast, if you don't supply `inplace=True`, which is equivalent to supplying `inplace=False` because `False` is the default value, the original dataframe object will be kept and the function returns a copy of the transformed dataframe object. In the latter case, you'll have to assign the returned object back to your variable.\n",
    "\n",
    "* Also, since you are dropping a column instead of a row, you'll need to supply `axis=1` to `drop()`.\n",
    "\n",
    "[Reference for `pandas.DataFrame.drop`](https://pandas.pydata.org/pandas-docs/stable/generated/pandas.DataFrame.drop.html)"
   ]
  },
  {
   "cell_type": "code",
   "execution_count": 87,
   "metadata": {},
   "outputs": [],
   "source": [
    "# Your code here \n",
    "\n",
    "\n",
    "# Print `austin` to confirm the column is indeed removed\n"
   ]
  },
  {
   "cell_type": "markdown",
   "metadata": {},
   "source": [
    "#### Next we will perform linear interpolation of the missing data.\n",
    "\n",
    "This means that we will use a linear algorithm to estimate the missing data. Linear interpolation assumes that there is a straight line between the points and the missing point will fall on that line. This is a good enough approximation for weather related data. Weather related data is typically a time series. Therefore, we do not want to drop rows from our data if possible. It is prefereable to estimate the missing values rather than remove the rows. However, if you have data from a single point in time, perhaps a better solution would be to remove the rows. \n",
    "\n",
    "If you would like to read more about linear interpolation, you can do so [here](https://en.wikipedia.org/wiki/Linear_interpolation).\n",
    "\n",
    "In the following cell, use the `.interpolate()` function on the entire dataframe. This time pass the `inplace=False` argument to the function and assign the interpolated dataframe to a new variable called `austin_fixed` so that we can compare with `austin`."
   ]
  },
  {
   "cell_type": "code",
   "execution_count": 88,
   "metadata": {},
   "outputs": [
    {
     "name": "stderr",
     "output_type": "stream",
     "text": [
      "C:\\Users\\andre\\AppData\\Local\\Temp\\ipykernel_52868\\1017222347.py:2: FutureWarning: DataFrame.interpolate with object dtype is deprecated and will raise in a future version. Call obj.infer_objects(copy=False) before interpolating instead.\n",
      "  austin_fixed = data.interpolate()\n"
     ]
    }
   ],
   "source": [
    "# Your code here\n",
    "austin_fixed = data.interpolate()"
   ]
  },
  {
   "cell_type": "markdown",
   "metadata": {},
   "source": [
    "#### Check to make sure `austin_fixed` contains no missing data. Also check `austin` - it still contains missing data."
   ]
  },
  {
   "cell_type": "code",
   "execution_count": 89,
   "metadata": {},
   "outputs": [
    {
     "data": {
      "text/plain": [
       "Date                          0\n",
       "TempHighF                     0\n",
       "TempAvgF                      0\n",
       "TempLowF                      0\n",
       "DewPointHighF                 0\n",
       "DewPointAvgF                  0\n",
       "DewPointLowF                  0\n",
       "HumidityHighPercent           0\n",
       "HumidityAvgPercent            0\n",
       "HumidityLowPercent            0\n",
       "SeaLevelPressureHighInches    0\n",
       "SeaLevelPressureAvgInches     0\n",
       "SeaLevelPressureLowInches     0\n",
       "VisibilityHighMiles           0\n",
       "VisibilityAvgMiles            0\n",
       "VisibilityLowMiles            0\n",
       "WindHighMPH                   0\n",
       "WindAvgMPH                    0\n",
       "WindGustMPH                   0\n",
       "PrecipitationSumInches        0\n",
       "Events                        0\n",
       "dtype: int64"
      ]
     },
     "execution_count": 89,
     "metadata": {},
     "output_type": "execute_result"
    }
   ],
   "source": [
    "# Your code here\n",
    "austin_fixed.isna().sum()"
   ]
  },
  {
   "cell_type": "markdown",
   "metadata": {},
   "source": [
    "# Challenge 3 - Processing the `Events` Column"
   ]
  },
  {
   "cell_type": "markdown",
   "metadata": {},
   "source": [
    "#### Our dataframe contains one true text column - the Events column. We should evaluate this column to determine how to process it.\n",
    "\n",
    "Use the `value_counts()` function to evaluate the contents of this column"
   ]
  },
  {
   "cell_type": "code",
   "execution_count": 90,
   "metadata": {},
   "outputs": [
    {
     "data": {
      "text/plain": [
       "array(['Rain , Thunderstorm', ' ', 'Rain', 'Fog', 'Rain , Snow',\n",
       "       'Fog , Rain', 'Thunderstorm', 'Fog , Rain , Thunderstorm',\n",
       "       'Fog , Thunderstorm'], dtype=object)"
      ]
     },
     "execution_count": 90,
     "metadata": {},
     "output_type": "execute_result"
    }
   ],
   "source": [
    "# Your code here:\n",
    "austin_fixed[\"Events\"].unique()\n"
   ]
  },
  {
   "cell_type": "markdown",
   "metadata": {},
   "source": [
    "Reading the values of `Events` and reflecting what those values mean in the context of data, you realize this column indicates what weather events had happened in a particular day.\n",
    "\n",
    "#### What is the largest number of events happened in a single day? Enter your answer in the next cell."
   ]
  },
  {
   "cell_type": "code",
   "execution_count": 93,
   "metadata": {},
   "outputs": [
    {
     "data": {
      "text/plain": [
       "0"
      ]
     },
     "execution_count": 93,
     "metadata": {},
     "output_type": "execute_result"
    }
   ],
   "source": [
    "# Your answer: 3 \n",
    "austin_fixed[\"Date\"].duplicated().sum() #check if there is repeated days "
   ]
  },
  {
   "cell_type": "markdown",
   "metadata": {},
   "source": [
    "#### We want to transform the string-type `Events` values to the numbers. This will allow us to apply machine learning algorithms easily.\n",
    "\n",
    "How? We will create a new column for each type of events (i.e. *Rain*, *Snow*, *Fog*, *Thunderstorm*. In each column, we use `1` to indicate if the corresponding event happened in that day and use `0` otherwise.\n",
    "\n",
    "Below we provide you a list of all event types. Loop the list and create a dummy column with `0` values for each event in `austin_fixed`. To create a new dummy column with `0` values, simply use `austin_fixed[event] = 0`."
   ]
  },
  {
   "cell_type": "code",
   "execution_count": 101,
   "metadata": {},
   "outputs": [
    {
     "data": {
      "text/html": [
       "<div>\n",
       "<style scoped>\n",
       "    .dataframe tbody tr th:only-of-type {\n",
       "        vertical-align: middle;\n",
       "    }\n",
       "\n",
       "    .dataframe tbody tr th {\n",
       "        vertical-align: top;\n",
       "    }\n",
       "\n",
       "    .dataframe thead th {\n",
       "        text-align: right;\n",
       "    }\n",
       "</style>\n",
       "<table border=\"1\" class=\"dataframe\">\n",
       "  <thead>\n",
       "    <tr style=\"text-align: right;\">\n",
       "      <th></th>\n",
       "      <th>Date</th>\n",
       "      <th>TempHighF</th>\n",
       "      <th>TempAvgF</th>\n",
       "      <th>TempLowF</th>\n",
       "      <th>DewPointHighF</th>\n",
       "      <th>DewPointAvgF</th>\n",
       "      <th>DewPointLowF</th>\n",
       "      <th>HumidityHighPercent</th>\n",
       "      <th>HumidityAvgPercent</th>\n",
       "      <th>HumidityLowPercent</th>\n",
       "      <th>...</th>\n",
       "      <th>VisibilityLowMiles</th>\n",
       "      <th>WindHighMPH</th>\n",
       "      <th>WindAvgMPH</th>\n",
       "      <th>WindGustMPH</th>\n",
       "      <th>PrecipitationSumInches</th>\n",
       "      <th>Events</th>\n",
       "      <th>Snow</th>\n",
       "      <th>Fog</th>\n",
       "      <th>Rain</th>\n",
       "      <th>Thunderstorm</th>\n",
       "    </tr>\n",
       "  </thead>\n",
       "  <tbody>\n",
       "    <tr>\n",
       "      <th>0</th>\n",
       "      <td>2013-12-21</td>\n",
       "      <td>74</td>\n",
       "      <td>60</td>\n",
       "      <td>45</td>\n",
       "      <td>67.0</td>\n",
       "      <td>49.0</td>\n",
       "      <td>43.0</td>\n",
       "      <td>93.0</td>\n",
       "      <td>75.0</td>\n",
       "      <td>57.0</td>\n",
       "      <td>...</td>\n",
       "      <td>2.0</td>\n",
       "      <td>20.0</td>\n",
       "      <td>4.0</td>\n",
       "      <td>31.0</td>\n",
       "      <td>0.460</td>\n",
       "      <td>Rain , Thunderstorm</td>\n",
       "      <td>0</td>\n",
       "      <td>0</td>\n",
       "      <td>0</td>\n",
       "      <td>0</td>\n",
       "    </tr>\n",
       "    <tr>\n",
       "      <th>1</th>\n",
       "      <td>2013-12-22</td>\n",
       "      <td>56</td>\n",
       "      <td>48</td>\n",
       "      <td>39</td>\n",
       "      <td>43.0</td>\n",
       "      <td>36.0</td>\n",
       "      <td>28.0</td>\n",
       "      <td>93.0</td>\n",
       "      <td>68.0</td>\n",
       "      <td>43.0</td>\n",
       "      <td>...</td>\n",
       "      <td>5.0</td>\n",
       "      <td>16.0</td>\n",
       "      <td>6.0</td>\n",
       "      <td>25.0</td>\n",
       "      <td>0.000</td>\n",
       "      <td></td>\n",
       "      <td>0</td>\n",
       "      <td>0</td>\n",
       "      <td>0</td>\n",
       "      <td>0</td>\n",
       "    </tr>\n",
       "    <tr>\n",
       "      <th>2</th>\n",
       "      <td>2013-12-23</td>\n",
       "      <td>58</td>\n",
       "      <td>45</td>\n",
       "      <td>32</td>\n",
       "      <td>31.0</td>\n",
       "      <td>27.0</td>\n",
       "      <td>23.0</td>\n",
       "      <td>76.0</td>\n",
       "      <td>52.0</td>\n",
       "      <td>27.0</td>\n",
       "      <td>...</td>\n",
       "      <td>10.0</td>\n",
       "      <td>8.0</td>\n",
       "      <td>3.0</td>\n",
       "      <td>12.0</td>\n",
       "      <td>0.000</td>\n",
       "      <td></td>\n",
       "      <td>0</td>\n",
       "      <td>0</td>\n",
       "      <td>0</td>\n",
       "      <td>0</td>\n",
       "    </tr>\n",
       "    <tr>\n",
       "      <th>3</th>\n",
       "      <td>2013-12-24</td>\n",
       "      <td>61</td>\n",
       "      <td>46</td>\n",
       "      <td>31</td>\n",
       "      <td>36.0</td>\n",
       "      <td>28.0</td>\n",
       "      <td>21.0</td>\n",
       "      <td>89.0</td>\n",
       "      <td>56.0</td>\n",
       "      <td>22.0</td>\n",
       "      <td>...</td>\n",
       "      <td>7.0</td>\n",
       "      <td>12.0</td>\n",
       "      <td>4.0</td>\n",
       "      <td>20.0</td>\n",
       "      <td>0.000</td>\n",
       "      <td></td>\n",
       "      <td>0</td>\n",
       "      <td>0</td>\n",
       "      <td>0</td>\n",
       "      <td>0</td>\n",
       "    </tr>\n",
       "    <tr>\n",
       "      <th>4</th>\n",
       "      <td>2013-12-25</td>\n",
       "      <td>58</td>\n",
       "      <td>50</td>\n",
       "      <td>41</td>\n",
       "      <td>44.0</td>\n",
       "      <td>40.0</td>\n",
       "      <td>36.0</td>\n",
       "      <td>86.0</td>\n",
       "      <td>71.0</td>\n",
       "      <td>56.0</td>\n",
       "      <td>...</td>\n",
       "      <td>7.0</td>\n",
       "      <td>10.0</td>\n",
       "      <td>2.0</td>\n",
       "      <td>16.0</td>\n",
       "      <td>0.001</td>\n",
       "      <td></td>\n",
       "      <td>0</td>\n",
       "      <td>0</td>\n",
       "      <td>0</td>\n",
       "      <td>0</td>\n",
       "    </tr>\n",
       "    <tr>\n",
       "      <th>...</th>\n",
       "      <td>...</td>\n",
       "      <td>...</td>\n",
       "      <td>...</td>\n",
       "      <td>...</td>\n",
       "      <td>...</td>\n",
       "      <td>...</td>\n",
       "      <td>...</td>\n",
       "      <td>...</td>\n",
       "      <td>...</td>\n",
       "      <td>...</td>\n",
       "      <td>...</td>\n",
       "      <td>...</td>\n",
       "      <td>...</td>\n",
       "      <td>...</td>\n",
       "      <td>...</td>\n",
       "      <td>...</td>\n",
       "      <td>...</td>\n",
       "      <td>...</td>\n",
       "      <td>...</td>\n",
       "      <td>...</td>\n",
       "      <td>...</td>\n",
       "    </tr>\n",
       "    <tr>\n",
       "      <th>1314</th>\n",
       "      <td>2017-07-27</td>\n",
       "      <td>103</td>\n",
       "      <td>89</td>\n",
       "      <td>75</td>\n",
       "      <td>71.0</td>\n",
       "      <td>67.0</td>\n",
       "      <td>61.0</td>\n",
       "      <td>82.0</td>\n",
       "      <td>54.0</td>\n",
       "      <td>25.0</td>\n",
       "      <td>...</td>\n",
       "      <td>10.0</td>\n",
       "      <td>12.0</td>\n",
       "      <td>5.0</td>\n",
       "      <td>21.0</td>\n",
       "      <td>0.000</td>\n",
       "      <td></td>\n",
       "      <td>0</td>\n",
       "      <td>0</td>\n",
       "      <td>0</td>\n",
       "      <td>0</td>\n",
       "    </tr>\n",
       "    <tr>\n",
       "      <th>1315</th>\n",
       "      <td>2017-07-28</td>\n",
       "      <td>105</td>\n",
       "      <td>91</td>\n",
       "      <td>76</td>\n",
       "      <td>71.0</td>\n",
       "      <td>64.0</td>\n",
       "      <td>55.0</td>\n",
       "      <td>87.0</td>\n",
       "      <td>54.0</td>\n",
       "      <td>20.0</td>\n",
       "      <td>...</td>\n",
       "      <td>10.0</td>\n",
       "      <td>14.0</td>\n",
       "      <td>5.0</td>\n",
       "      <td>20.0</td>\n",
       "      <td>0.000</td>\n",
       "      <td></td>\n",
       "      <td>0</td>\n",
       "      <td>0</td>\n",
       "      <td>0</td>\n",
       "      <td>0</td>\n",
       "    </tr>\n",
       "    <tr>\n",
       "      <th>1316</th>\n",
       "      <td>2017-07-29</td>\n",
       "      <td>107</td>\n",
       "      <td>92</td>\n",
       "      <td>77</td>\n",
       "      <td>72.0</td>\n",
       "      <td>64.0</td>\n",
       "      <td>55.0</td>\n",
       "      <td>82.0</td>\n",
       "      <td>51.0</td>\n",
       "      <td>19.0</td>\n",
       "      <td>...</td>\n",
       "      <td>10.0</td>\n",
       "      <td>12.0</td>\n",
       "      <td>4.0</td>\n",
       "      <td>17.0</td>\n",
       "      <td>0.000</td>\n",
       "      <td></td>\n",
       "      <td>0</td>\n",
       "      <td>0</td>\n",
       "      <td>0</td>\n",
       "      <td>0</td>\n",
       "    </tr>\n",
       "    <tr>\n",
       "      <th>1317</th>\n",
       "      <td>2017-07-30</td>\n",
       "      <td>106</td>\n",
       "      <td>93</td>\n",
       "      <td>79</td>\n",
       "      <td>70.0</td>\n",
       "      <td>68.0</td>\n",
       "      <td>63.0</td>\n",
       "      <td>69.0</td>\n",
       "      <td>48.0</td>\n",
       "      <td>27.0</td>\n",
       "      <td>...</td>\n",
       "      <td>10.0</td>\n",
       "      <td>13.0</td>\n",
       "      <td>4.0</td>\n",
       "      <td>20.0</td>\n",
       "      <td>0.000</td>\n",
       "      <td></td>\n",
       "      <td>0</td>\n",
       "      <td>0</td>\n",
       "      <td>0</td>\n",
       "      <td>0</td>\n",
       "    </tr>\n",
       "    <tr>\n",
       "      <th>1318</th>\n",
       "      <td>2017-07-31</td>\n",
       "      <td>99</td>\n",
       "      <td>88</td>\n",
       "      <td>77</td>\n",
       "      <td>66.0</td>\n",
       "      <td>61.0</td>\n",
       "      <td>54.0</td>\n",
       "      <td>64.0</td>\n",
       "      <td>43.0</td>\n",
       "      <td>22.0</td>\n",
       "      <td>...</td>\n",
       "      <td>10.0</td>\n",
       "      <td>12.0</td>\n",
       "      <td>4.0</td>\n",
       "      <td>20.0</td>\n",
       "      <td>0.000</td>\n",
       "      <td></td>\n",
       "      <td>0</td>\n",
       "      <td>0</td>\n",
       "      <td>0</td>\n",
       "      <td>0</td>\n",
       "    </tr>\n",
       "  </tbody>\n",
       "</table>\n",
       "<p>1319 rows × 25 columns</p>\n",
       "</div>"
      ],
      "text/plain": [
       "           Date  TempHighF  TempAvgF  TempLowF  DewPointHighF  DewPointAvgF  \\\n",
       "0    2013-12-21         74        60        45           67.0          49.0   \n",
       "1    2013-12-22         56        48        39           43.0          36.0   \n",
       "2    2013-12-23         58        45        32           31.0          27.0   \n",
       "3    2013-12-24         61        46        31           36.0          28.0   \n",
       "4    2013-12-25         58        50        41           44.0          40.0   \n",
       "...         ...        ...       ...       ...            ...           ...   \n",
       "1314 2017-07-27        103        89        75           71.0          67.0   \n",
       "1315 2017-07-28        105        91        76           71.0          64.0   \n",
       "1316 2017-07-29        107        92        77           72.0          64.0   \n",
       "1317 2017-07-30        106        93        79           70.0          68.0   \n",
       "1318 2017-07-31         99        88        77           66.0          61.0   \n",
       "\n",
       "      DewPointLowF  HumidityHighPercent  HumidityAvgPercent  \\\n",
       "0             43.0                 93.0                75.0   \n",
       "1             28.0                 93.0                68.0   \n",
       "2             23.0                 76.0                52.0   \n",
       "3             21.0                 89.0                56.0   \n",
       "4             36.0                 86.0                71.0   \n",
       "...            ...                  ...                 ...   \n",
       "1314          61.0                 82.0                54.0   \n",
       "1315          55.0                 87.0                54.0   \n",
       "1316          55.0                 82.0                51.0   \n",
       "1317          63.0                 69.0                48.0   \n",
       "1318          54.0                 64.0                43.0   \n",
       "\n",
       "      HumidityLowPercent  ...  VisibilityLowMiles  WindHighMPH  WindAvgMPH  \\\n",
       "0                   57.0  ...                 2.0         20.0         4.0   \n",
       "1                   43.0  ...                 5.0         16.0         6.0   \n",
       "2                   27.0  ...                10.0          8.0         3.0   \n",
       "3                   22.0  ...                 7.0         12.0         4.0   \n",
       "4                   56.0  ...                 7.0         10.0         2.0   \n",
       "...                  ...  ...                 ...          ...         ...   \n",
       "1314                25.0  ...                10.0         12.0         5.0   \n",
       "1315                20.0  ...                10.0         14.0         5.0   \n",
       "1316                19.0  ...                10.0         12.0         4.0   \n",
       "1317                27.0  ...                10.0         13.0         4.0   \n",
       "1318                22.0  ...                10.0         12.0         4.0   \n",
       "\n",
       "      WindGustMPH  PrecipitationSumInches               Events  Snow  Fog  \\\n",
       "0            31.0                   0.460  Rain , Thunderstorm     0    0   \n",
       "1            25.0                   0.000                          0    0   \n",
       "2            12.0                   0.000                          0    0   \n",
       "3            20.0                   0.000                          0    0   \n",
       "4            16.0                   0.001                          0    0   \n",
       "...           ...                     ...                  ...   ...  ...   \n",
       "1314         21.0                   0.000                          0    0   \n",
       "1315         20.0                   0.000                          0    0   \n",
       "1316         17.0                   0.000                          0    0   \n",
       "1317         20.0                   0.000                          0    0   \n",
       "1318         20.0                   0.000                          0    0   \n",
       "\n",
       "      Rain  Thunderstorm  \n",
       "0        0             0  \n",
       "1        0             0  \n",
       "2        0             0  \n",
       "3        0             0  \n",
       "4        0             0  \n",
       "...    ...           ...  \n",
       "1314     0             0  \n",
       "1315     0             0  \n",
       "1316     0             0  \n",
       "1317     0             0  \n",
       "1318     0             0  \n",
       "\n",
       "[1319 rows x 25 columns]"
      ]
     },
     "execution_count": 101,
     "metadata": {},
     "output_type": "execute_result"
    }
   ],
   "source": [
    "event_list = ['Snow', 'Fog', 'Rain', 'Thunderstorm']\n",
    "\n",
    "for event in event_list :\n",
    "    austin_fixed[event] = 0\n",
    "\n",
    "\n",
    "# Print your new dataframe to check whether new columns have been created:\n",
    "\n",
    "austin_fixed"
   ]
  },
  {
   "cell_type": "markdown",
   "metadata": {},
   "source": [
    "#### Next, populate the actual values in the dummy columns of  `austin_fixed`.\n",
    "\n",
    "You will check the *Events* column. If its string value contains `Rain`, then the *Rain* column should be `1`. The same for `Snow`, `Fog`, and `Thunderstorm`.\n",
    "\n",
    "*Hints:*\n",
    "\n",
    "* Use [`pandas.Series.str.contains()`](https://pandas.pydata.org/pandas-docs/stable/generated/pandas.Series.str.contains.html) to create the value series of each new column.\n",
    "\n",
    "* What if the values you populated are booleans instead of numbers? You can cast the boolean values to numbers by using `.astype(int)`. For instance, `pd.Series([True, True, False]).astype(int)` will return a new series with values of `[1, 1, 0]`."
   ]
  },
  {
   "cell_type": "code",
   "execution_count": 103,
   "metadata": {},
   "outputs": [],
   "source": [
    "for event in event_list :\n",
    "    austin_fixed[event] = austin_fixed[\"Events\"].str.contains(event).astype(int)"
   ]
  },
  {
   "cell_type": "markdown",
   "metadata": {},
   "source": [
    "#### Print out `austin_fixed` to check if the event columns are populated with the intended values"
   ]
  },
  {
   "cell_type": "code",
   "execution_count": 104,
   "metadata": {},
   "outputs": [
    {
     "data": {
      "text/html": [
       "<div>\n",
       "<style scoped>\n",
       "    .dataframe tbody tr th:only-of-type {\n",
       "        vertical-align: middle;\n",
       "    }\n",
       "\n",
       "    .dataframe tbody tr th {\n",
       "        vertical-align: top;\n",
       "    }\n",
       "\n",
       "    .dataframe thead th {\n",
       "        text-align: right;\n",
       "    }\n",
       "</style>\n",
       "<table border=\"1\" class=\"dataframe\">\n",
       "  <thead>\n",
       "    <tr style=\"text-align: right;\">\n",
       "      <th></th>\n",
       "      <th>Date</th>\n",
       "      <th>TempHighF</th>\n",
       "      <th>TempAvgF</th>\n",
       "      <th>TempLowF</th>\n",
       "      <th>DewPointHighF</th>\n",
       "      <th>DewPointAvgF</th>\n",
       "      <th>DewPointLowF</th>\n",
       "      <th>HumidityHighPercent</th>\n",
       "      <th>HumidityAvgPercent</th>\n",
       "      <th>HumidityLowPercent</th>\n",
       "      <th>...</th>\n",
       "      <th>VisibilityLowMiles</th>\n",
       "      <th>WindHighMPH</th>\n",
       "      <th>WindAvgMPH</th>\n",
       "      <th>WindGustMPH</th>\n",
       "      <th>PrecipitationSumInches</th>\n",
       "      <th>Events</th>\n",
       "      <th>Snow</th>\n",
       "      <th>Fog</th>\n",
       "      <th>Rain</th>\n",
       "      <th>Thunderstorm</th>\n",
       "    </tr>\n",
       "  </thead>\n",
       "  <tbody>\n",
       "    <tr>\n",
       "      <th>0</th>\n",
       "      <td>2013-12-21</td>\n",
       "      <td>74</td>\n",
       "      <td>60</td>\n",
       "      <td>45</td>\n",
       "      <td>67.0</td>\n",
       "      <td>49.0</td>\n",
       "      <td>43.0</td>\n",
       "      <td>93.0</td>\n",
       "      <td>75.0</td>\n",
       "      <td>57.0</td>\n",
       "      <td>...</td>\n",
       "      <td>2.0</td>\n",
       "      <td>20.0</td>\n",
       "      <td>4.0</td>\n",
       "      <td>31.0</td>\n",
       "      <td>0.460</td>\n",
       "      <td>Rain , Thunderstorm</td>\n",
       "      <td>0</td>\n",
       "      <td>0</td>\n",
       "      <td>1</td>\n",
       "      <td>1</td>\n",
       "    </tr>\n",
       "    <tr>\n",
       "      <th>1</th>\n",
       "      <td>2013-12-22</td>\n",
       "      <td>56</td>\n",
       "      <td>48</td>\n",
       "      <td>39</td>\n",
       "      <td>43.0</td>\n",
       "      <td>36.0</td>\n",
       "      <td>28.0</td>\n",
       "      <td>93.0</td>\n",
       "      <td>68.0</td>\n",
       "      <td>43.0</td>\n",
       "      <td>...</td>\n",
       "      <td>5.0</td>\n",
       "      <td>16.0</td>\n",
       "      <td>6.0</td>\n",
       "      <td>25.0</td>\n",
       "      <td>0.000</td>\n",
       "      <td></td>\n",
       "      <td>0</td>\n",
       "      <td>0</td>\n",
       "      <td>0</td>\n",
       "      <td>0</td>\n",
       "    </tr>\n",
       "    <tr>\n",
       "      <th>2</th>\n",
       "      <td>2013-12-23</td>\n",
       "      <td>58</td>\n",
       "      <td>45</td>\n",
       "      <td>32</td>\n",
       "      <td>31.0</td>\n",
       "      <td>27.0</td>\n",
       "      <td>23.0</td>\n",
       "      <td>76.0</td>\n",
       "      <td>52.0</td>\n",
       "      <td>27.0</td>\n",
       "      <td>...</td>\n",
       "      <td>10.0</td>\n",
       "      <td>8.0</td>\n",
       "      <td>3.0</td>\n",
       "      <td>12.0</td>\n",
       "      <td>0.000</td>\n",
       "      <td></td>\n",
       "      <td>0</td>\n",
       "      <td>0</td>\n",
       "      <td>0</td>\n",
       "      <td>0</td>\n",
       "    </tr>\n",
       "    <tr>\n",
       "      <th>3</th>\n",
       "      <td>2013-12-24</td>\n",
       "      <td>61</td>\n",
       "      <td>46</td>\n",
       "      <td>31</td>\n",
       "      <td>36.0</td>\n",
       "      <td>28.0</td>\n",
       "      <td>21.0</td>\n",
       "      <td>89.0</td>\n",
       "      <td>56.0</td>\n",
       "      <td>22.0</td>\n",
       "      <td>...</td>\n",
       "      <td>7.0</td>\n",
       "      <td>12.0</td>\n",
       "      <td>4.0</td>\n",
       "      <td>20.0</td>\n",
       "      <td>0.000</td>\n",
       "      <td></td>\n",
       "      <td>0</td>\n",
       "      <td>0</td>\n",
       "      <td>0</td>\n",
       "      <td>0</td>\n",
       "    </tr>\n",
       "    <tr>\n",
       "      <th>4</th>\n",
       "      <td>2013-12-25</td>\n",
       "      <td>58</td>\n",
       "      <td>50</td>\n",
       "      <td>41</td>\n",
       "      <td>44.0</td>\n",
       "      <td>40.0</td>\n",
       "      <td>36.0</td>\n",
       "      <td>86.0</td>\n",
       "      <td>71.0</td>\n",
       "      <td>56.0</td>\n",
       "      <td>...</td>\n",
       "      <td>7.0</td>\n",
       "      <td>10.0</td>\n",
       "      <td>2.0</td>\n",
       "      <td>16.0</td>\n",
       "      <td>0.001</td>\n",
       "      <td></td>\n",
       "      <td>0</td>\n",
       "      <td>0</td>\n",
       "      <td>0</td>\n",
       "      <td>0</td>\n",
       "    </tr>\n",
       "    <tr>\n",
       "      <th>...</th>\n",
       "      <td>...</td>\n",
       "      <td>...</td>\n",
       "      <td>...</td>\n",
       "      <td>...</td>\n",
       "      <td>...</td>\n",
       "      <td>...</td>\n",
       "      <td>...</td>\n",
       "      <td>...</td>\n",
       "      <td>...</td>\n",
       "      <td>...</td>\n",
       "      <td>...</td>\n",
       "      <td>...</td>\n",
       "      <td>...</td>\n",
       "      <td>...</td>\n",
       "      <td>...</td>\n",
       "      <td>...</td>\n",
       "      <td>...</td>\n",
       "      <td>...</td>\n",
       "      <td>...</td>\n",
       "      <td>...</td>\n",
       "      <td>...</td>\n",
       "    </tr>\n",
       "    <tr>\n",
       "      <th>1314</th>\n",
       "      <td>2017-07-27</td>\n",
       "      <td>103</td>\n",
       "      <td>89</td>\n",
       "      <td>75</td>\n",
       "      <td>71.0</td>\n",
       "      <td>67.0</td>\n",
       "      <td>61.0</td>\n",
       "      <td>82.0</td>\n",
       "      <td>54.0</td>\n",
       "      <td>25.0</td>\n",
       "      <td>...</td>\n",
       "      <td>10.0</td>\n",
       "      <td>12.0</td>\n",
       "      <td>5.0</td>\n",
       "      <td>21.0</td>\n",
       "      <td>0.000</td>\n",
       "      <td></td>\n",
       "      <td>0</td>\n",
       "      <td>0</td>\n",
       "      <td>0</td>\n",
       "      <td>0</td>\n",
       "    </tr>\n",
       "    <tr>\n",
       "      <th>1315</th>\n",
       "      <td>2017-07-28</td>\n",
       "      <td>105</td>\n",
       "      <td>91</td>\n",
       "      <td>76</td>\n",
       "      <td>71.0</td>\n",
       "      <td>64.0</td>\n",
       "      <td>55.0</td>\n",
       "      <td>87.0</td>\n",
       "      <td>54.0</td>\n",
       "      <td>20.0</td>\n",
       "      <td>...</td>\n",
       "      <td>10.0</td>\n",
       "      <td>14.0</td>\n",
       "      <td>5.0</td>\n",
       "      <td>20.0</td>\n",
       "      <td>0.000</td>\n",
       "      <td></td>\n",
       "      <td>0</td>\n",
       "      <td>0</td>\n",
       "      <td>0</td>\n",
       "      <td>0</td>\n",
       "    </tr>\n",
       "    <tr>\n",
       "      <th>1316</th>\n",
       "      <td>2017-07-29</td>\n",
       "      <td>107</td>\n",
       "      <td>92</td>\n",
       "      <td>77</td>\n",
       "      <td>72.0</td>\n",
       "      <td>64.0</td>\n",
       "      <td>55.0</td>\n",
       "      <td>82.0</td>\n",
       "      <td>51.0</td>\n",
       "      <td>19.0</td>\n",
       "      <td>...</td>\n",
       "      <td>10.0</td>\n",
       "      <td>12.0</td>\n",
       "      <td>4.0</td>\n",
       "      <td>17.0</td>\n",
       "      <td>0.000</td>\n",
       "      <td></td>\n",
       "      <td>0</td>\n",
       "      <td>0</td>\n",
       "      <td>0</td>\n",
       "      <td>0</td>\n",
       "    </tr>\n",
       "    <tr>\n",
       "      <th>1317</th>\n",
       "      <td>2017-07-30</td>\n",
       "      <td>106</td>\n",
       "      <td>93</td>\n",
       "      <td>79</td>\n",
       "      <td>70.0</td>\n",
       "      <td>68.0</td>\n",
       "      <td>63.0</td>\n",
       "      <td>69.0</td>\n",
       "      <td>48.0</td>\n",
       "      <td>27.0</td>\n",
       "      <td>...</td>\n",
       "      <td>10.0</td>\n",
       "      <td>13.0</td>\n",
       "      <td>4.0</td>\n",
       "      <td>20.0</td>\n",
       "      <td>0.000</td>\n",
       "      <td></td>\n",
       "      <td>0</td>\n",
       "      <td>0</td>\n",
       "      <td>0</td>\n",
       "      <td>0</td>\n",
       "    </tr>\n",
       "    <tr>\n",
       "      <th>1318</th>\n",
       "      <td>2017-07-31</td>\n",
       "      <td>99</td>\n",
       "      <td>88</td>\n",
       "      <td>77</td>\n",
       "      <td>66.0</td>\n",
       "      <td>61.0</td>\n",
       "      <td>54.0</td>\n",
       "      <td>64.0</td>\n",
       "      <td>43.0</td>\n",
       "      <td>22.0</td>\n",
       "      <td>...</td>\n",
       "      <td>10.0</td>\n",
       "      <td>12.0</td>\n",
       "      <td>4.0</td>\n",
       "      <td>20.0</td>\n",
       "      <td>0.000</td>\n",
       "      <td></td>\n",
       "      <td>0</td>\n",
       "      <td>0</td>\n",
       "      <td>0</td>\n",
       "      <td>0</td>\n",
       "    </tr>\n",
       "  </tbody>\n",
       "</table>\n",
       "<p>1319 rows × 25 columns</p>\n",
       "</div>"
      ],
      "text/plain": [
       "           Date  TempHighF  TempAvgF  TempLowF  DewPointHighF  DewPointAvgF  \\\n",
       "0    2013-12-21         74        60        45           67.0          49.0   \n",
       "1    2013-12-22         56        48        39           43.0          36.0   \n",
       "2    2013-12-23         58        45        32           31.0          27.0   \n",
       "3    2013-12-24         61        46        31           36.0          28.0   \n",
       "4    2013-12-25         58        50        41           44.0          40.0   \n",
       "...         ...        ...       ...       ...            ...           ...   \n",
       "1314 2017-07-27        103        89        75           71.0          67.0   \n",
       "1315 2017-07-28        105        91        76           71.0          64.0   \n",
       "1316 2017-07-29        107        92        77           72.0          64.0   \n",
       "1317 2017-07-30        106        93        79           70.0          68.0   \n",
       "1318 2017-07-31         99        88        77           66.0          61.0   \n",
       "\n",
       "      DewPointLowF  HumidityHighPercent  HumidityAvgPercent  \\\n",
       "0             43.0                 93.0                75.0   \n",
       "1             28.0                 93.0                68.0   \n",
       "2             23.0                 76.0                52.0   \n",
       "3             21.0                 89.0                56.0   \n",
       "4             36.0                 86.0                71.0   \n",
       "...            ...                  ...                 ...   \n",
       "1314          61.0                 82.0                54.0   \n",
       "1315          55.0                 87.0                54.0   \n",
       "1316          55.0                 82.0                51.0   \n",
       "1317          63.0                 69.0                48.0   \n",
       "1318          54.0                 64.0                43.0   \n",
       "\n",
       "      HumidityLowPercent  ...  VisibilityLowMiles  WindHighMPH  WindAvgMPH  \\\n",
       "0                   57.0  ...                 2.0         20.0         4.0   \n",
       "1                   43.0  ...                 5.0         16.0         6.0   \n",
       "2                   27.0  ...                10.0          8.0         3.0   \n",
       "3                   22.0  ...                 7.0         12.0         4.0   \n",
       "4                   56.0  ...                 7.0         10.0         2.0   \n",
       "...                  ...  ...                 ...          ...         ...   \n",
       "1314                25.0  ...                10.0         12.0         5.0   \n",
       "1315                20.0  ...                10.0         14.0         5.0   \n",
       "1316                19.0  ...                10.0         12.0         4.0   \n",
       "1317                27.0  ...                10.0         13.0         4.0   \n",
       "1318                22.0  ...                10.0         12.0         4.0   \n",
       "\n",
       "      WindGustMPH  PrecipitationSumInches               Events  Snow  Fog  \\\n",
       "0            31.0                   0.460  Rain , Thunderstorm     0    0   \n",
       "1            25.0                   0.000                          0    0   \n",
       "2            12.0                   0.000                          0    0   \n",
       "3            20.0                   0.000                          0    0   \n",
       "4            16.0                   0.001                          0    0   \n",
       "...           ...                     ...                  ...   ...  ...   \n",
       "1314         21.0                   0.000                          0    0   \n",
       "1315         20.0                   0.000                          0    0   \n",
       "1316         17.0                   0.000                          0    0   \n",
       "1317         20.0                   0.000                          0    0   \n",
       "1318         20.0                   0.000                          0    0   \n",
       "\n",
       "      Rain  Thunderstorm  \n",
       "0        1             1  \n",
       "1        0             0  \n",
       "2        0             0  \n",
       "3        0             0  \n",
       "4        0             0  \n",
       "...    ...           ...  \n",
       "1314     0             0  \n",
       "1315     0             0  \n",
       "1316     0             0  \n",
       "1317     0             0  \n",
       "1318     0             0  \n",
       "\n",
       "[1319 rows x 25 columns]"
      ]
     },
     "execution_count": 104,
     "metadata": {},
     "output_type": "execute_result"
    }
   ],
   "source": [
    "# Your code here\n",
    "austin_fixed"
   ]
  },
  {
   "cell_type": "markdown",
   "metadata": {},
   "source": [
    "#### If your code worked correctly, now we can drop the `Events` column as we don't need it any more."
   ]
  },
  {
   "cell_type": "code",
   "execution_count": 112,
   "metadata": {},
   "outputs": [],
   "source": [
    "austin_fixed.drop(columns=\"Events\", inplace= True)"
   ]
  },
  {
   "cell_type": "markdown",
   "metadata": {},
   "source": [
    "# Challenge 4 - Processing The `Date` Column\n",
    "\n",
    "The `Date` column is another non-numeric field in our dataset. A value in that field looks like `'2014-01-06'` which consists of the year, month, and day connected with hyphens. One way to convert the date string to numerical is using a similar approach as we used for `Events`, namely splitting the column into numerical `Year`, `Month`, and `Day` columns. In this challenge we'll show you another way which is to use the Python `datetime` library's `toordinal()` function. Depending on what actual machine learning analysis you will conduct, each approach has its pros and cons. Our goal today is to practice data preparation so we'll skip the discussion here.\n",
    "\n",
    "Here you can find the [reference](https://docs.python.org/3/library/datetime.html) and [example](https://stackoverflow.com/questions/39846918/convert-date-to-ordinal-python) for `toordinal`. The basic process is to first convert the string to a `datetime` object using `datetime.datetime.strptime`, then convert the `datetime` object to numerical using `toordinal`.\n",
    "\n",
    "#### In the cell below, convert the `Date` column values from string to numeric values using `toordinal()`."
   ]
  },
  {
   "cell_type": "code",
   "execution_count": 115,
   "metadata": {},
   "outputs": [],
   "source": [
    "austin_fixed[\"Date_ordinal\"] = austin_fixed[\"Date\"].apply( lambda x : x.toordinal())\n"
   ]
  },
  {
   "cell_type": "code",
   "execution_count": 116,
   "metadata": {},
   "outputs": [
    {
     "data": {
      "text/html": [
       "<div>\n",
       "<style scoped>\n",
       "    .dataframe tbody tr th:only-of-type {\n",
       "        vertical-align: middle;\n",
       "    }\n",
       "\n",
       "    .dataframe tbody tr th {\n",
       "        vertical-align: top;\n",
       "    }\n",
       "\n",
       "    .dataframe thead th {\n",
       "        text-align: right;\n",
       "    }\n",
       "</style>\n",
       "<table border=\"1\" class=\"dataframe\">\n",
       "  <thead>\n",
       "    <tr style=\"text-align: right;\">\n",
       "      <th></th>\n",
       "      <th>Date</th>\n",
       "      <th>TempHighF</th>\n",
       "      <th>TempAvgF</th>\n",
       "      <th>TempLowF</th>\n",
       "      <th>DewPointHighF</th>\n",
       "      <th>DewPointAvgF</th>\n",
       "      <th>DewPointLowF</th>\n",
       "      <th>HumidityHighPercent</th>\n",
       "      <th>HumidityAvgPercent</th>\n",
       "      <th>HumidityLowPercent</th>\n",
       "      <th>...</th>\n",
       "      <th>VisibilityLowMiles</th>\n",
       "      <th>WindHighMPH</th>\n",
       "      <th>WindAvgMPH</th>\n",
       "      <th>WindGustMPH</th>\n",
       "      <th>PrecipitationSumInches</th>\n",
       "      <th>Snow</th>\n",
       "      <th>Fog</th>\n",
       "      <th>Rain</th>\n",
       "      <th>Thunderstorm</th>\n",
       "      <th>Date_ordinal</th>\n",
       "    </tr>\n",
       "  </thead>\n",
       "  <tbody>\n",
       "    <tr>\n",
       "      <th>0</th>\n",
       "      <td>2013-12-21</td>\n",
       "      <td>74</td>\n",
       "      <td>60</td>\n",
       "      <td>45</td>\n",
       "      <td>67.0</td>\n",
       "      <td>49.0</td>\n",
       "      <td>43.0</td>\n",
       "      <td>93.0</td>\n",
       "      <td>75.0</td>\n",
       "      <td>57.0</td>\n",
       "      <td>...</td>\n",
       "      <td>2.0</td>\n",
       "      <td>20.0</td>\n",
       "      <td>4.0</td>\n",
       "      <td>31.0</td>\n",
       "      <td>0.460</td>\n",
       "      <td>0</td>\n",
       "      <td>0</td>\n",
       "      <td>1</td>\n",
       "      <td>1</td>\n",
       "      <td>735223</td>\n",
       "    </tr>\n",
       "    <tr>\n",
       "      <th>1</th>\n",
       "      <td>2013-12-22</td>\n",
       "      <td>56</td>\n",
       "      <td>48</td>\n",
       "      <td>39</td>\n",
       "      <td>43.0</td>\n",
       "      <td>36.0</td>\n",
       "      <td>28.0</td>\n",
       "      <td>93.0</td>\n",
       "      <td>68.0</td>\n",
       "      <td>43.0</td>\n",
       "      <td>...</td>\n",
       "      <td>5.0</td>\n",
       "      <td>16.0</td>\n",
       "      <td>6.0</td>\n",
       "      <td>25.0</td>\n",
       "      <td>0.000</td>\n",
       "      <td>0</td>\n",
       "      <td>0</td>\n",
       "      <td>0</td>\n",
       "      <td>0</td>\n",
       "      <td>735224</td>\n",
       "    </tr>\n",
       "    <tr>\n",
       "      <th>2</th>\n",
       "      <td>2013-12-23</td>\n",
       "      <td>58</td>\n",
       "      <td>45</td>\n",
       "      <td>32</td>\n",
       "      <td>31.0</td>\n",
       "      <td>27.0</td>\n",
       "      <td>23.0</td>\n",
       "      <td>76.0</td>\n",
       "      <td>52.0</td>\n",
       "      <td>27.0</td>\n",
       "      <td>...</td>\n",
       "      <td>10.0</td>\n",
       "      <td>8.0</td>\n",
       "      <td>3.0</td>\n",
       "      <td>12.0</td>\n",
       "      <td>0.000</td>\n",
       "      <td>0</td>\n",
       "      <td>0</td>\n",
       "      <td>0</td>\n",
       "      <td>0</td>\n",
       "      <td>735225</td>\n",
       "    </tr>\n",
       "    <tr>\n",
       "      <th>3</th>\n",
       "      <td>2013-12-24</td>\n",
       "      <td>61</td>\n",
       "      <td>46</td>\n",
       "      <td>31</td>\n",
       "      <td>36.0</td>\n",
       "      <td>28.0</td>\n",
       "      <td>21.0</td>\n",
       "      <td>89.0</td>\n",
       "      <td>56.0</td>\n",
       "      <td>22.0</td>\n",
       "      <td>...</td>\n",
       "      <td>7.0</td>\n",
       "      <td>12.0</td>\n",
       "      <td>4.0</td>\n",
       "      <td>20.0</td>\n",
       "      <td>0.000</td>\n",
       "      <td>0</td>\n",
       "      <td>0</td>\n",
       "      <td>0</td>\n",
       "      <td>0</td>\n",
       "      <td>735226</td>\n",
       "    </tr>\n",
       "    <tr>\n",
       "      <th>4</th>\n",
       "      <td>2013-12-25</td>\n",
       "      <td>58</td>\n",
       "      <td>50</td>\n",
       "      <td>41</td>\n",
       "      <td>44.0</td>\n",
       "      <td>40.0</td>\n",
       "      <td>36.0</td>\n",
       "      <td>86.0</td>\n",
       "      <td>71.0</td>\n",
       "      <td>56.0</td>\n",
       "      <td>...</td>\n",
       "      <td>7.0</td>\n",
       "      <td>10.0</td>\n",
       "      <td>2.0</td>\n",
       "      <td>16.0</td>\n",
       "      <td>0.001</td>\n",
       "      <td>0</td>\n",
       "      <td>0</td>\n",
       "      <td>0</td>\n",
       "      <td>0</td>\n",
       "      <td>735227</td>\n",
       "    </tr>\n",
       "    <tr>\n",
       "      <th>...</th>\n",
       "      <td>...</td>\n",
       "      <td>...</td>\n",
       "      <td>...</td>\n",
       "      <td>...</td>\n",
       "      <td>...</td>\n",
       "      <td>...</td>\n",
       "      <td>...</td>\n",
       "      <td>...</td>\n",
       "      <td>...</td>\n",
       "      <td>...</td>\n",
       "      <td>...</td>\n",
       "      <td>...</td>\n",
       "      <td>...</td>\n",
       "      <td>...</td>\n",
       "      <td>...</td>\n",
       "      <td>...</td>\n",
       "      <td>...</td>\n",
       "      <td>...</td>\n",
       "      <td>...</td>\n",
       "      <td>...</td>\n",
       "      <td>...</td>\n",
       "    </tr>\n",
       "    <tr>\n",
       "      <th>1314</th>\n",
       "      <td>2017-07-27</td>\n",
       "      <td>103</td>\n",
       "      <td>89</td>\n",
       "      <td>75</td>\n",
       "      <td>71.0</td>\n",
       "      <td>67.0</td>\n",
       "      <td>61.0</td>\n",
       "      <td>82.0</td>\n",
       "      <td>54.0</td>\n",
       "      <td>25.0</td>\n",
       "      <td>...</td>\n",
       "      <td>10.0</td>\n",
       "      <td>12.0</td>\n",
       "      <td>5.0</td>\n",
       "      <td>21.0</td>\n",
       "      <td>0.000</td>\n",
       "      <td>0</td>\n",
       "      <td>0</td>\n",
       "      <td>0</td>\n",
       "      <td>0</td>\n",
       "      <td>736537</td>\n",
       "    </tr>\n",
       "    <tr>\n",
       "      <th>1315</th>\n",
       "      <td>2017-07-28</td>\n",
       "      <td>105</td>\n",
       "      <td>91</td>\n",
       "      <td>76</td>\n",
       "      <td>71.0</td>\n",
       "      <td>64.0</td>\n",
       "      <td>55.0</td>\n",
       "      <td>87.0</td>\n",
       "      <td>54.0</td>\n",
       "      <td>20.0</td>\n",
       "      <td>...</td>\n",
       "      <td>10.0</td>\n",
       "      <td>14.0</td>\n",
       "      <td>5.0</td>\n",
       "      <td>20.0</td>\n",
       "      <td>0.000</td>\n",
       "      <td>0</td>\n",
       "      <td>0</td>\n",
       "      <td>0</td>\n",
       "      <td>0</td>\n",
       "      <td>736538</td>\n",
       "    </tr>\n",
       "    <tr>\n",
       "      <th>1316</th>\n",
       "      <td>2017-07-29</td>\n",
       "      <td>107</td>\n",
       "      <td>92</td>\n",
       "      <td>77</td>\n",
       "      <td>72.0</td>\n",
       "      <td>64.0</td>\n",
       "      <td>55.0</td>\n",
       "      <td>82.0</td>\n",
       "      <td>51.0</td>\n",
       "      <td>19.0</td>\n",
       "      <td>...</td>\n",
       "      <td>10.0</td>\n",
       "      <td>12.0</td>\n",
       "      <td>4.0</td>\n",
       "      <td>17.0</td>\n",
       "      <td>0.000</td>\n",
       "      <td>0</td>\n",
       "      <td>0</td>\n",
       "      <td>0</td>\n",
       "      <td>0</td>\n",
       "      <td>736539</td>\n",
       "    </tr>\n",
       "    <tr>\n",
       "      <th>1317</th>\n",
       "      <td>2017-07-30</td>\n",
       "      <td>106</td>\n",
       "      <td>93</td>\n",
       "      <td>79</td>\n",
       "      <td>70.0</td>\n",
       "      <td>68.0</td>\n",
       "      <td>63.0</td>\n",
       "      <td>69.0</td>\n",
       "      <td>48.0</td>\n",
       "      <td>27.0</td>\n",
       "      <td>...</td>\n",
       "      <td>10.0</td>\n",
       "      <td>13.0</td>\n",
       "      <td>4.0</td>\n",
       "      <td>20.0</td>\n",
       "      <td>0.000</td>\n",
       "      <td>0</td>\n",
       "      <td>0</td>\n",
       "      <td>0</td>\n",
       "      <td>0</td>\n",
       "      <td>736540</td>\n",
       "    </tr>\n",
       "    <tr>\n",
       "      <th>1318</th>\n",
       "      <td>2017-07-31</td>\n",
       "      <td>99</td>\n",
       "      <td>88</td>\n",
       "      <td>77</td>\n",
       "      <td>66.0</td>\n",
       "      <td>61.0</td>\n",
       "      <td>54.0</td>\n",
       "      <td>64.0</td>\n",
       "      <td>43.0</td>\n",
       "      <td>22.0</td>\n",
       "      <td>...</td>\n",
       "      <td>10.0</td>\n",
       "      <td>12.0</td>\n",
       "      <td>4.0</td>\n",
       "      <td>20.0</td>\n",
       "      <td>0.000</td>\n",
       "      <td>0</td>\n",
       "      <td>0</td>\n",
       "      <td>0</td>\n",
       "      <td>0</td>\n",
       "      <td>736541</td>\n",
       "    </tr>\n",
       "  </tbody>\n",
       "</table>\n",
       "<p>1319 rows × 25 columns</p>\n",
       "</div>"
      ],
      "text/plain": [
       "           Date  TempHighF  TempAvgF  TempLowF  DewPointHighF  DewPointAvgF  \\\n",
       "0    2013-12-21         74        60        45           67.0          49.0   \n",
       "1    2013-12-22         56        48        39           43.0          36.0   \n",
       "2    2013-12-23         58        45        32           31.0          27.0   \n",
       "3    2013-12-24         61        46        31           36.0          28.0   \n",
       "4    2013-12-25         58        50        41           44.0          40.0   \n",
       "...         ...        ...       ...       ...            ...           ...   \n",
       "1314 2017-07-27        103        89        75           71.0          67.0   \n",
       "1315 2017-07-28        105        91        76           71.0          64.0   \n",
       "1316 2017-07-29        107        92        77           72.0          64.0   \n",
       "1317 2017-07-30        106        93        79           70.0          68.0   \n",
       "1318 2017-07-31         99        88        77           66.0          61.0   \n",
       "\n",
       "      DewPointLowF  HumidityHighPercent  HumidityAvgPercent  \\\n",
       "0             43.0                 93.0                75.0   \n",
       "1             28.0                 93.0                68.0   \n",
       "2             23.0                 76.0                52.0   \n",
       "3             21.0                 89.0                56.0   \n",
       "4             36.0                 86.0                71.0   \n",
       "...            ...                  ...                 ...   \n",
       "1314          61.0                 82.0                54.0   \n",
       "1315          55.0                 87.0                54.0   \n",
       "1316          55.0                 82.0                51.0   \n",
       "1317          63.0                 69.0                48.0   \n",
       "1318          54.0                 64.0                43.0   \n",
       "\n",
       "      HumidityLowPercent  ...  VisibilityLowMiles  WindHighMPH  WindAvgMPH  \\\n",
       "0                   57.0  ...                 2.0         20.0         4.0   \n",
       "1                   43.0  ...                 5.0         16.0         6.0   \n",
       "2                   27.0  ...                10.0          8.0         3.0   \n",
       "3                   22.0  ...                 7.0         12.0         4.0   \n",
       "4                   56.0  ...                 7.0         10.0         2.0   \n",
       "...                  ...  ...                 ...          ...         ...   \n",
       "1314                25.0  ...                10.0         12.0         5.0   \n",
       "1315                20.0  ...                10.0         14.0         5.0   \n",
       "1316                19.0  ...                10.0         12.0         4.0   \n",
       "1317                27.0  ...                10.0         13.0         4.0   \n",
       "1318                22.0  ...                10.0         12.0         4.0   \n",
       "\n",
       "      WindGustMPH  PrecipitationSumInches  Snow  Fog  Rain  Thunderstorm  \\\n",
       "0            31.0                   0.460     0    0     1             1   \n",
       "1            25.0                   0.000     0    0     0             0   \n",
       "2            12.0                   0.000     0    0     0             0   \n",
       "3            20.0                   0.000     0    0     0             0   \n",
       "4            16.0                   0.001     0    0     0             0   \n",
       "...           ...                     ...   ...  ...   ...           ...   \n",
       "1314         21.0                   0.000     0    0     0             0   \n",
       "1315         20.0                   0.000     0    0     0             0   \n",
       "1316         17.0                   0.000     0    0     0             0   \n",
       "1317         20.0                   0.000     0    0     0             0   \n",
       "1318         20.0                   0.000     0    0     0             0   \n",
       "\n",
       "      Date_ordinal  \n",
       "0           735223  \n",
       "1           735224  \n",
       "2           735225  \n",
       "3           735226  \n",
       "4           735227  \n",
       "...            ...  \n",
       "1314        736537  \n",
       "1315        736538  \n",
       "1316        736539  \n",
       "1317        736540  \n",
       "1318        736541  \n",
       "\n",
       "[1319 rows x 25 columns]"
      ]
     },
     "execution_count": 116,
     "metadata": {},
     "output_type": "execute_result"
    }
   ],
   "source": [
    "austin_fixed"
   ]
  },
  {
   "cell_type": "markdown",
   "metadata": {},
   "source": [
    "#### Print `austin_fixed` to check your `Date` column."
   ]
  },
  {
   "cell_type": "code",
   "execution_count": null,
   "metadata": {},
   "outputs": [],
   "source": [
    "austin_fixed.head(5)"
   ]
  },
  {
   "cell_type": "markdown",
   "metadata": {},
   "source": [
    "# Challenge 5 - Sampling and Holdout Sets"
   ]
  },
  {
   "cell_type": "markdown",
   "metadata": {},
   "source": [
    "#### Now that we have processed the data for machine learning, we will separate the data to test and training sets.\n",
    "\n",
    "We first train the model using only the training set. We check our metrics on the training set. We then apply the model to the test set and check our metrics on the test set as well. If the metrics are significantly more optimal on the training set, then we know we have overfit our model. We will need to revise our model to ensure it will be more applicable to data outside the test set."
   ]
  },
  {
   "cell_type": "markdown",
   "metadata": {},
   "source": [
    "#### In the next cells we will separate the data into a training set and a test set using the `train_test_split()` function in scikit-learn.\n",
    "\n",
    "When using `scikit-learn` for machine learning, we first separate the data to predictor and response variables. This is the standard way of passing datasets into a model in `scikit-learn`. The `scikit-learn` will then find out whether the predictors and responses fit the model.\n",
    "\n",
    "In the next cell, assign the `TempAvgF` column to `y` and the remaining columns to `X`. Your `X` should be a subset of `austin_fixed` containing the following columns: \n",
    "\n",
    "```['Date',\n",
    " 'TempHighF',\n",
    " 'TempLowF',\n",
    " 'DewPointHighF',\n",
    " 'DewPointAvgF',\n",
    " 'DewPointLowF',\n",
    " 'HumidityHighPercent',\n",
    " 'HumidityAvgPercent',\n",
    " 'HumidityLowPercent',\n",
    " 'SeaLevelPressureHighInches',\n",
    " 'SeaLevelPressureAvgInches',\n",
    " 'SeaLevelPressureLowInches',\n",
    " 'VisibilityHighMiles',\n",
    " 'VisibilityAvgMiles',\n",
    " 'VisibilityLowMiles',\n",
    " 'WindHighMPH',\n",
    " 'WindAvgMPH',\n",
    " 'WindGustMPH',\n",
    " 'Snow',\n",
    " 'Fog',\n",
    " 'Rain',\n",
    " 'Thunderstorm']```\n",
    " \n",
    " Your `y` should be a subset of `austin_fixed` containing one column `TempAvgF`."
   ]
  },
  {
   "cell_type": "code",
   "execution_count": 131,
   "metadata": {},
   "outputs": [],
   "source": [
    "# Your code here:\n",
    "target = austin_fixed[\"TempAvgF\"]\n",
    "features = austin_fixed.drop([\"TempAvgF\", \"Date\"], axis = 1 )\n"
   ]
  },
  {
   "cell_type": "markdown",
   "metadata": {},
   "source": [
    "In the next cell, import `train_test_split` from `sklearn.model_selection`"
   ]
  },
  {
   "cell_type": "code",
   "execution_count": 132,
   "metadata": {},
   "outputs": [],
   "source": [
    "#Your code here:\n",
    "from sklearn.model_selection import train_test_split"
   ]
  },
  {
   "cell_type": "markdown",
   "metadata": {},
   "source": [
    "Now that we have split the data to predictor and response variables and imported the `train_test_split()` function, split `X` and `y` into `X_train`, `X_test`, `y_train`, and `y_test`. 80% of the data should be in the training set and 20% in the test set. `train_test_split()` reference can be accessed [here](https://scikit-learn.org/stable/modules/generated/sklearn.model_selection.train_test_split.html).\n",
    "\n",
    "\n",
    "Enter your code in the cell below:"
   ]
  },
  {
   "cell_type": "code",
   "execution_count": 133,
   "metadata": {},
   "outputs": [],
   "source": [
    "#Your code here:\n",
    "X_train, X_test, y_train, y_test = train_test_split(features, target, test_size = 0.20, random_state = 0) "
   ]
  },
  {
   "cell_type": "code",
   "execution_count": 134,
   "metadata": {},
   "outputs": [],
   "source": [
    "from sklearn.neighbors import KNeighborsRegressor"
   ]
  },
  {
   "cell_type": "code",
   "execution_count": 135,
   "metadata": {},
   "outputs": [],
   "source": [
    "knn_r = KNeighborsRegressor(n_neighbors=3)\n"
   ]
  },
  {
   "cell_type": "code",
   "execution_count": 136,
   "metadata": {},
   "outputs": [
    {
     "data": {
      "text/html": [
       "<style>#sk-container-id-1 {color: black;background-color: white;}#sk-container-id-1 pre{padding: 0;}#sk-container-id-1 div.sk-toggleable {background-color: white;}#sk-container-id-1 label.sk-toggleable__label {cursor: pointer;display: block;width: 100%;margin-bottom: 0;padding: 0.3em;box-sizing: border-box;text-align: center;}#sk-container-id-1 label.sk-toggleable__label-arrow:before {content: \"▸\";float: left;margin-right: 0.25em;color: #696969;}#sk-container-id-1 label.sk-toggleable__label-arrow:hover:before {color: black;}#sk-container-id-1 div.sk-estimator:hover label.sk-toggleable__label-arrow:before {color: black;}#sk-container-id-1 div.sk-toggleable__content {max-height: 0;max-width: 0;overflow: hidden;text-align: left;background-color: #f0f8ff;}#sk-container-id-1 div.sk-toggleable__content pre {margin: 0.2em;color: black;border-radius: 0.25em;background-color: #f0f8ff;}#sk-container-id-1 input.sk-toggleable__control:checked~div.sk-toggleable__content {max-height: 200px;max-width: 100%;overflow: auto;}#sk-container-id-1 input.sk-toggleable__control:checked~label.sk-toggleable__label-arrow:before {content: \"▾\";}#sk-container-id-1 div.sk-estimator input.sk-toggleable__control:checked~label.sk-toggleable__label {background-color: #d4ebff;}#sk-container-id-1 div.sk-label input.sk-toggleable__control:checked~label.sk-toggleable__label {background-color: #d4ebff;}#sk-container-id-1 input.sk-hidden--visually {border: 0;clip: rect(1px 1px 1px 1px);clip: rect(1px, 1px, 1px, 1px);height: 1px;margin: -1px;overflow: hidden;padding: 0;position: absolute;width: 1px;}#sk-container-id-1 div.sk-estimator {font-family: monospace;background-color: #f0f8ff;border: 1px dotted black;border-radius: 0.25em;box-sizing: border-box;margin-bottom: 0.5em;}#sk-container-id-1 div.sk-estimator:hover {background-color: #d4ebff;}#sk-container-id-1 div.sk-parallel-item::after {content: \"\";width: 100%;border-bottom: 1px solid gray;flex-grow: 1;}#sk-container-id-1 div.sk-label:hover label.sk-toggleable__label {background-color: #d4ebff;}#sk-container-id-1 div.sk-serial::before {content: \"\";position: absolute;border-left: 1px solid gray;box-sizing: border-box;top: 0;bottom: 0;left: 50%;z-index: 0;}#sk-container-id-1 div.sk-serial {display: flex;flex-direction: column;align-items: center;background-color: white;padding-right: 0.2em;padding-left: 0.2em;position: relative;}#sk-container-id-1 div.sk-item {position: relative;z-index: 1;}#sk-container-id-1 div.sk-parallel {display: flex;align-items: stretch;justify-content: center;background-color: white;position: relative;}#sk-container-id-1 div.sk-item::before, #sk-container-id-1 div.sk-parallel-item::before {content: \"\";position: absolute;border-left: 1px solid gray;box-sizing: border-box;top: 0;bottom: 0;left: 50%;z-index: -1;}#sk-container-id-1 div.sk-parallel-item {display: flex;flex-direction: column;z-index: 1;position: relative;background-color: white;}#sk-container-id-1 div.sk-parallel-item:first-child::after {align-self: flex-end;width: 50%;}#sk-container-id-1 div.sk-parallel-item:last-child::after {align-self: flex-start;width: 50%;}#sk-container-id-1 div.sk-parallel-item:only-child::after {width: 0;}#sk-container-id-1 div.sk-dashed-wrapped {border: 1px dashed gray;margin: 0 0.4em 0.5em 0.4em;box-sizing: border-box;padding-bottom: 0.4em;background-color: white;}#sk-container-id-1 div.sk-label label {font-family: monospace;font-weight: bold;display: inline-block;line-height: 1.2em;}#sk-container-id-1 div.sk-label-container {text-align: center;}#sk-container-id-1 div.sk-container {/* jupyter's `normalize.less` sets `[hidden] { display: none; }` but bootstrap.min.css set `[hidden] { display: none !important; }` so we also need the `!important` here to be able to override the default hidden behavior on the sphinx rendered scikit-learn.org. See: https://github.com/scikit-learn/scikit-learn/issues/21755 */display: inline-block !important;position: relative;}#sk-container-id-1 div.sk-text-repr-fallback {display: none;}</style><div id=\"sk-container-id-1\" class=\"sk-top-container\"><div class=\"sk-text-repr-fallback\"><pre>KNeighborsRegressor(n_neighbors=3)</pre><b>In a Jupyter environment, please rerun this cell to show the HTML representation or trust the notebook. <br />On GitHub, the HTML representation is unable to render, please try loading this page with nbviewer.org.</b></div><div class=\"sk-container\" hidden><div class=\"sk-item\"><div class=\"sk-estimator sk-toggleable\"><input class=\"sk-toggleable__control sk-hidden--visually\" id=\"sk-estimator-id-1\" type=\"checkbox\" checked><label for=\"sk-estimator-id-1\" class=\"sk-toggleable__label sk-toggleable__label-arrow\">KNeighborsRegressor</label><div class=\"sk-toggleable__content\"><pre>KNeighborsRegressor(n_neighbors=3)</pre></div></div></div></div></div>"
      ],
      "text/plain": [
       "KNeighborsRegressor(n_neighbors=3)"
      ]
     },
     "execution_count": 136,
     "metadata": {},
     "output_type": "execute_result"
    }
   ],
   "source": [
    "#Training \n",
    "knn_r.fit(X_train, y_train)"
   ]
  },
  {
   "cell_type": "code",
   "execution_count": 139,
   "metadata": {},
   "outputs": [
    {
     "data": {
      "text/plain": [
       "0.9640082034688259"
      ]
     },
     "execution_count": 139,
     "metadata": {},
     "output_type": "execute_result"
    }
   ],
   "source": [
    "knn_r.score(X_test, y_test)"
   ]
  },
  {
   "cell_type": "code",
   "execution_count": 140,
   "metadata": {},
   "outputs": [
    {
     "data": {
      "text/plain": [
       "0.9795401845431857"
      ]
     },
     "execution_count": 140,
     "metadata": {},
     "output_type": "execute_result"
    }
   ],
   "source": [
    "knn_r.score(X_train, y_train)"
   ]
  },
  {
   "cell_type": "markdown",
   "metadata": {},
   "source": [
    "#### Congratulations! Now you have finished the preparation of the dataset!"
   ]
  },
  {
   "cell_type": "markdown",
   "metadata": {},
   "source": [
    "# Bonus Challenge 1\n",
    "\n",
    "#### While the above is the common practice to prepare most datasets, when it comes to time series data, we sometimes do not want to randomly select rows from our dataset.\n",
    "\n",
    "This is because many time series algorithms rely on observations having equal time distances between them. In such cases, we typically select the majority of rows as the test data and the last few rows as the training data. We don't use `train_test_split()` to select the train/test data because it returns random selections.\n",
    "\n",
    "In the following cell, compute the number of rows that account for 80% of our data and round it to the next integer. Assign this number to `ts_rows`."
   ]
  },
  {
   "cell_type": "code",
   "execution_count": null,
   "metadata": {},
   "outputs": [],
   "source": [
    "# Your code here:\n"
   ]
  },
  {
   "cell_type": "markdown",
   "metadata": {},
   "source": [
    "Assign the first `ts_rows` rows of `X` to `X_ts_train` and the remaining rows to `X_ts_test`."
   ]
  },
  {
   "cell_type": "code",
   "execution_count": null,
   "metadata": {},
   "outputs": [],
   "source": [
    "# Your code here:\n"
   ]
  },
  {
   "cell_type": "markdown",
   "metadata": {},
   "source": [
    "Assign the first `ts_rows` rows of `y` to `y_ts_train` and the remaining rows to `y_ts_test`."
   ]
  },
  {
   "cell_type": "code",
   "execution_count": null,
   "metadata": {},
   "outputs": [],
   "source": [
    "# Your code here:\n"
   ]
  }
 ],
 "metadata": {
  "kernelspec": {
   "display_name": "Python 3",
   "language": "python",
   "name": "python3"
  },
  "language_info": {
   "codemirror_mode": {
    "name": "ipython",
    "version": 3
   },
   "file_extension": ".py",
   "mimetype": "text/x-python",
   "name": "python",
   "nbconvert_exporter": "python",
   "pygments_lexer": "ipython3",
   "version": "3.11.5"
  }
 },
 "nbformat": 4,
 "nbformat_minor": 2
}
